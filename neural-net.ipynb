{
  "nbformat": 4,
  "nbformat_minor": 0,
  "metadata": {
    "colab": {
      "provenance": []
    },
    "kernelspec": {
      "name": "python3",
      "display_name": "Python 3"
    },
    "language_info": {
      "name": "python"
    }
  },
  "cells": [
    {
      "cell_type": "code",
      "execution_count": 1,
      "metadata": {
        "id": "1ceIWQMYZH_9"
      },
      "outputs": [],
      "source": [
        "import numpy as np\n",
        "from keras.datasets import mnist\n",
        "import matplotlib.pyplot as plt\n",
        "import pickle"
      ]
    },
    {
      "cell_type": "code",
      "source": [
        "(X_train,y_train),(X_test,y_test) = mnist.load_data()"
      ],
      "metadata": {
        "id": "6OhcRxkBZJIV"
      },
      "execution_count": 2,
      "outputs": []
    },
    {
      "cell_type": "code",
      "source": [
        "X_train = X_train.reshape(X_train.shape[0],1,28*28)\n",
        "X_train = X_train.astype(np.float64)\n",
        "X_train /= 255\n",
        "X_train = X_train.squeeze()\n",
        "X_test = X_test.reshape(X_test.shape[0],1,28*28)\n",
        "X_test = X_test.astype(np.float64).squeeze()\n",
        "X_test /= 255"
      ],
      "metadata": {
        "id": "fobdQISxZPwt"
      },
      "execution_count": 3,
      "outputs": []
    },
    {
      "cell_type": "code",
      "source": [
        "class Layer:\n",
        "    def __init__(self):\n",
        "        # initialize inputs, outputs to None\n",
        "        self.inputs = None\n",
        "        self.outputs = None\n",
        "\n",
        "    def forward_Pass(self, X, y):\n",
        "        pass\n",
        "\n",
        "    def backward(self, X, y):\n",
        "        pass"
      ],
      "metadata": {
        "id": "FClg7Z1SZSvI"
      },
      "execution_count": 4,
      "outputs": []
    },
    {
      "cell_type": "code",
      "source": [
        "class LinearLayer(Layer):\n",
        "  def __init__(self, inputs,outputs,range = None):\n",
        "      super().__init__()\n",
        "      if range == None:\n",
        "        self.weights = np.zeros((outputs, inputs))\n",
        "        self.bias = np.zeros((outputs))\n",
        "      else:\n",
        "        self.weights = (np.random.rand(outputs,inputs) * 2 * range) - range\n",
        "        self.bias = np.random.rand(outputs) - 0.5\n",
        "\n",
        "  def forward_pass(self, X):\n",
        "      self.X = X\n",
        "      self.outputs = ((self.weights @ self.X.T).T + self.bias)\n",
        "      return self.outputs\n",
        "\n",
        "  def backward(self, err_outputs, alpha):\n",
        "    error = err_outputs @ self.weights\n",
        "    self.w_error = err_outputs.T @ self.X\n",
        "    self.weights = self.weights - (alpha*self.w_error)\n",
        "    self.bias = self.bias-(alpha*err_outputs)\n",
        "    return error"
      ],
      "metadata": {
        "id": "CuxVQfvwZUZj"
      },
      "execution_count": 5,
      "outputs": []
    },
    {
      "cell_type": "code",
      "source": [
        "class Sigmoid(Layer):\n",
        "  def __init__(self):\n",
        "      super().__init__()\n",
        "\n",
        "  def forward_pass(self,inputs):\n",
        "    self.inputs = 1.0/(1.0+np.exp(-inputs))\n",
        "    return self.inputs\n",
        "    \n",
        "  def backward(self,err_outputs,alpha):\n",
        "    return self.inputs * (1 - self.inputs) * err_outputs"
      ],
      "metadata": {
        "id": "3l7TgOcoZVdZ"
      },
      "execution_count": 6,
      "outputs": []
    },
    {
      "cell_type": "code",
      "source": [
        "class Tanh(Layer):\n",
        "  def __init__(self):\n",
        "      super().__init__()\n",
        "      \n",
        "  def forward_pass(self,inputs):\n",
        "    self.inputs = np.tanh(inputs)\n",
        "    return self.inputs\n",
        "\n",
        "  def backward(self,err_outputs,alpha):\n",
        "    return (1 - self.inputs**2) * err_outputs"
      ],
      "metadata": {
        "id": "d3d0SW1BZc_W"
      },
      "execution_count": 7,
      "outputs": []
    },
    {
      "cell_type": "code",
      "source": [
        "class Softmax(Layer):\n",
        "  def __init__(self):\n",
        "      super().__init__()\n",
        "\n",
        "  def forward_pass(self, inputs):\n",
        "      exps = np.exp(inputs - inputs.max())\n",
        "      return exps / np.sum(np.exp(exps), axis=0, keepdims=True)\n",
        "\n",
        "  def backward(self, err_outputs, alpha):\n",
        "    #derivative already computed with CrossEntropyLoss\n",
        "    return err_outputs"
      ],
      "metadata": {
        "id": "AHO9VMQ2Zec8"
      },
      "execution_count": 8,
      "outputs": []
    },
    {
      "cell_type": "code",
      "source": [
        "class CrossEntropyLoss(Layer):\n",
        "  def __init__(self):\n",
        "      super().__init__()\n",
        "\n",
        "  def forward_pass(self,y,y_pred):\n",
        "    return -y * np.log(y_pred)\n",
        "\n",
        "  def backward(self,y,y_pred):\n",
        "    return y_pred - y"
      ],
      "metadata": {
        "id": "iVmLLtUxZfw8"
      },
      "execution_count": 9,
      "outputs": []
    },
    {
      "cell_type": "code",
      "source": [
        "# Define a Sequential class that extends the Layer class\n",
        "class Sequential(Layer):\n",
        "    def __init__(self):\n",
        "        super().__init__()\n",
        "        self.layers_list = []  # List of layers in the neural network\n",
        "        self.loss = None       # Loss function to calculate error\n",
        "        self.errors = []       # List to store errors at each epoch\n",
        "        self.val_errors = []   # List to store validation errors at each epoch\n",
        "\n",
        "\n",
        "\n",
        "    # Add a layer to the neural network\n",
        "    def add_layer(self, layer):\n",
        "        self.layers_list.append(layer)\n",
        "\n",
        "    # Set the loss function for the neural network\n",
        "    def set_loss(self, loss_function):\n",
        "        self.loss = loss_function\n",
        "    def fit(self, X_train, y_train, epochs=10, learning_rate=0.01, X_val=None, y_val=None):\n",
        "        self.learning_rate = learning_rate\n",
        "        n_samples = X_train.shape[0]\n",
        "        epoch_count = 0\n",
        "        total_errors = list()\n",
        "        val_errors = list()\n",
        "        \n",
        "        if X_val is not None and y_val is not None:\n",
        "            val_n_samples = X_val.shape[0]\n",
        "\n",
        "        for i in range(epochs):\n",
        "            \n",
        "            total_error = 0\n",
        "        \n",
        "            for j in range(n_samples):\n",
        "                # Get the predicted output for the current input\n",
        "                y_pred = X_train[j]\n",
        "                if (y_pred.ndim == 1):\n",
        "                    y_pred = y_pred[None, :]\n",
        "                \n",
        "                # Forward Propagation: apply each layer in the neural network to the current input\n",
        "                for layer in self.layers_list:\n",
        "                    y_pred = layer.forward_pass(y_pred)\n",
        "                \n",
        "                # Error calculation: calculating the error between the predicted output and the actual output\n",
        "                total_error += np.sum(np.mean(self.loss.forward_pass(y_train[j], y_pred), axis=0))\n",
        "                output_error = np.array(self.loss.backward(y_train[j], y_pred))\n",
        "                \n",
        "                # Backward Propagation: propagate the error back through the neural network and update the weights\n",
        "                for layer in reversed(self.layers_list):\n",
        "                    output_error = layer.backward(output_error, learning_rate)\n",
        "            \n",
        "            epoch_count += 1\n",
        "            \n",
        "            # Calculating the average error for the current epoch and store it in the errors list\n",
        "            total_error = total_error/n_samples\n",
        "            self.errors.append(round(total_error,6))\n",
        "            \n",
        "            if X_val is not None and y_val is not None:\n",
        "                # Evaluate the validation set and calculate the validation error\n",
        "                val_error = 0\n",
        "                for k in range(val_n_samples):\n",
        "                    val_pred = X_val[k]\n",
        "                    if (val_pred.ndim == 1):\n",
        "                        val_pred = val_pred[None, :]\n",
        "                        \n",
        "                    for layer in self.layers_list:\n",
        "                        val_pred = layer.forward_pass(val_pred)\n",
        "                    \n",
        "                    val_error += np.sum(np.mean(self.loss.forward_pass(y_val[k], val_pred), axis=0))\n",
        "                \n",
        "                val_error = val_error/val_n_samples\n",
        "                self.val_errors.append(round(val_error, 6))\n",
        "            \n",
        "            # Early Stopping: stop training if the error has not improved in the last 5 epochs\n",
        "            if epoch_count > 5 and all(a == self.errors[-1:] for a in self.errors[-5:]):\n",
        "                break\n",
        "            \n",
        "            print('epoch %d----> train error: %f'%(i+1, total_error))\n",
        "            if X_val is not None and y_val is not None:\n",
        "                print('epoch %d----> val error: %f'%(i+1, val_error))\n",
        "\n",
        "        if X_val is not None and y_val is not None:\n",
        "            return self.errors, self.val_errors\n",
        "        else:\n",
        "          return self.errors\n",
        "\n",
        "    # Use the trained neural network to predict the outputs for a given dataset\n",
        "    def predict(self, X_test, probability = False):\n",
        "        n_samples = X_test.shape[0]\n",
        "        y_pred_matrix = []\n",
        "        y_pred = []\n",
        "        for i in range(n_samples):\n",
        "            out = X_test[i]\n",
        "\n",
        "            # Forward Propagation: apply each layer in the neural network to the current input\n",
        "            for layer in self.layers_list:\n",
        "                out = layer.forward_pass(out)\n",
        "            y_pred_matrix.append(out)\n",
        "\n",
        "        if probability:\n",
        "            # Return the probability distribution of the predicted outputs\n",
        "            return y_pred_matrix\n",
        "\n",
        "        # Round the output probabilities to get binary outputs\n",
        "        for i in y_pred_matrix:\n",
        "            i[i > 0.5] = 1\n",
        "            i[i < 0.5] = 0\n",
        "\n",
        "        # Return the binary outputs as an array\n",
        "        return np.array(y_pred_matrix)\n",
        "\n",
        "    def plot_errors(self):\n",
        "        # assuming you have already called the `fit` method and saved the errors\n",
        "        # in the `self.errors` and `val_errors` variables\n",
        "        epochs = len(self.errors)\n",
        "\n",
        "        # plot the errors\n",
        "        plt.plot(range(1, epochs+1), self.errors, label='Training error')\n",
        "        if len(self.val_errors) > 0:\n",
        "            plt.plot(range(1, epochs+1), self.val_errors, label='Validation error')\n",
        "\n",
        "        # add labels and legend\n",
        "        plt.xlabel('Epochs')\n",
        "        plt.ylabel('Error')\n",
        "        plt.legend()\n",
        "\n",
        "        # show the plot\n",
        "        plt.show()"
      ],
      "metadata": {
        "id": "njw64E0-dNgZ"
      },
      "execution_count": 10,
      "outputs": []
    },
    {
      "cell_type": "code",
      "source": [
        "data = np.array([[0, 0], [0, 1], [1, 0], [1, 1]])\n",
        "target = np.array([[0], [1], [1], [0]])"
      ],
      "metadata": {
        "id": "rWSvUBfkZiL_"
      },
      "execution_count": 11,
      "outputs": []
    },
    {
      "cell_type": "code",
      "source": [
        "fig = plt.figure()\n",
        "ax = fig.add_subplot(111)\n",
        "ax.scatter(data[:, 0], data[:, 1], c = target)"
      ],
      "metadata": {
        "colab": {
          "base_uri": "https://localhost:8080/",
          "height": 448
        },
        "id": "YMm3AEW2ZuFc",
        "outputId": "aeb0cfa5-2e3a-4faf-8b7d-33b7d13e7f8f"
      },
      "execution_count": 12,
      "outputs": [
        {
          "output_type": "execute_result",
          "data": {
            "text/plain": [
              "<matplotlib.collections.PathCollection at 0x7f16631f8910>"
            ]
          },
          "metadata": {},
          "execution_count": 12
        },
        {
          "output_type": "display_data",
          "data": {
            "text/plain": [
              "<Figure size 640x480 with 1 Axes>"
            ],
            "image/png": "[encoded data removed]"
          },
          "metadata": {}
        }
      ]
    },
    {
      "cell_type": "code",
      "source": [
        "X_val = np.array([[0,0], [0,1], [1,0], [1,1]])\n",
        "y_val = np.array([0, 1, 1, 0])"
      ],
      "metadata": {
        "id": "4Gia3n9utKLb"
      },
      "execution_count": 13,
      "outputs": []
    },
    {
      "cell_type": "code",
      "source": [
        "# Create a Sequential neural network\n",
        "first = Sequential()\n",
        "# Add the first layer (input layer)\n",
        "first.add_layer(LinearLayer(2,2,2))\n",
        "first.add_layer(Sigmoid())\n",
        "# Add the second layer (output layer)\n",
        "first.add_layer(LinearLayer(2,1,2))\n",
        "first.add_layer(Sigmoid())\n",
        "# set the loss function\n",
        "first.set_loss(CrossEntropyLoss())"
      ],
      "metadata": {
        "id": "xk9E-lPbZv8N"
      },
      "execution_count": 14,
      "outputs": []
    },
    {
      "cell_type": "code",
      "source": [
        "first.fit(data,target,10,0.01, X_val=X_val, y_val=y_val)"
      ],
      "metadata": {
        "colab": {
          "base_uri": "https://localhost:8080/"
        },
        "id": "gOxyxkloZxhb",
        "outputId": "834f5c81-71ee-47df-dff2-4fe88c5a01cf"
      },
      "execution_count": 15,
      "outputs": [
        {
          "output_type": "stream",
          "name": "stdout",
          "text": [
            "epoch 1----> train error: 0.679772\n",
            "epoch 1----> val error: 0.678367\n",
            "epoch 2----> train error: 0.678325\n",
            "epoch 2----> val error: 0.676922\n",
            "epoch 3----> train error: 0.676882\n",
            "epoch 3----> val error: 0.675480\n",
            "epoch 4----> train error: 0.675441\n",
            "epoch 4----> val error: 0.674042\n",
            "epoch 5----> train error: 0.674004\n",
            "epoch 5----> val error: 0.672607\n",
            "epoch 6----> train error: 0.672570\n",
            "epoch 6----> val error: 0.671175\n",
            "epoch 7----> train error: 0.671139\n",
            "epoch 7----> val error: 0.669747\n",
            "epoch 8----> train error: 0.669712\n",
            "epoch 8----> val error: 0.668321\n",
            "epoch 9----> train error: 0.668288\n",
            "epoch 9----> val error: 0.666900\n",
            "epoch 10----> train error: 0.666867\n",
            "epoch 10----> val error: 0.665481\n"
          ]
        },
        {
          "output_type": "execute_result",
          "data": {
            "text/plain": [
              "([0.679772,\n",
              "  0.678325,\n",
              "  0.676882,\n",
              "  0.675441,\n",
              "  0.674004,\n",
              "  0.67257,\n",
              "  0.671139,\n",
              "  0.669712,\n",
              "  0.668288,\n",
              "  0.666867],\n",
              " [0.678367,\n",
              "  0.676922,\n",
              "  0.67548,\n",
              "  0.674042,\n",
              "  0.672607,\n",
              "  0.671175,\n",
              "  0.669747,\n",
              "  0.668321,\n",
              "  0.6669,\n",
              "  0.665481])"
            ]
          },
          "metadata": {},
          "execution_count": 15
        }
      ]
    },
    {
      "cell_type": "code",
      "source": [
        "first.plot_errors()"
      ],
      "metadata": {
        "colab": {
          "base_uri": "https://localhost:8080/",
          "height": 449
        },
        "id": "iH71dL4ZZy5T",
        "outputId": "ad61accd-14dc-4ab1-d8d6-80f7a74555cf"
      },
      "execution_count": 16,
      "outputs": [
        {
          "output_type": "display_data",
          "data": {
            "text/plain": [
              "<Figure size 640x480 with 1 Axes>"
            ],
            "image/png": "[encoded data removed]"
          },
          "metadata": {}
        }
      ]
    },
    {
      "cell_type": "code",
      "source": [
        "with open('xor_solved.pkl', 'wb') as outp:\n",
        "    pickle.dump(first, outp, pickle.HIGHEST_PROTOCOL)"
      ],
      "metadata": {
        "id": "6KjFP7uOZ2lh"
      },
      "execution_count": 17,
      "outputs": []
    },
    {
      "cell_type": "code",
      "source": [
        "# Create a Sequential neural network\n",
        "second = Sequential()\n",
        "# Add the first layer (input layer)\n",
        "second.add_layer(LinearLayer(2,2,2))\n",
        "second.add_layer(Tanh())\n",
        "# Add the second layer (output layer)\n",
        "second.add_layer(LinearLayer(2,1,2))\n",
        "second.add_layer(Sigmoid())\n",
        "# Set the loss function\n",
        "second.set_loss(CrossEntropyLoss())\n",
        "second.fit(data,target,10,0.001, X_val=X_val, y_val=y_val)"
      ],
      "metadata": {
        "colab": {
          "base_uri": "https://localhost:8080/"
        },
        "id": "lnRrXpkwZ6IB",
        "outputId": "b10540cd-5c15-4abb-b3d6-75cda9b3498f"
      },
      "execution_count": 18,
      "outputs": [
        {
          "output_type": "stream",
          "name": "stdout",
          "text": [
            "epoch 1----> train error: 0.389033\n",
            "epoch 1----> val error: 0.389016\n",
            "epoch 2----> train error: 0.389049\n",
            "epoch 2----> val error: 0.389032\n",
            "epoch 3----> train error: 0.389065\n",
            "epoch 3----> val error: 0.389048\n",
            "epoch 4----> train error: 0.389081\n",
            "epoch 4----> val error: 0.389064\n",
            "epoch 5----> train error: 0.389098\n",
            "epoch 5----> val error: 0.389081\n",
            "epoch 6----> train error: 0.389114\n",
            "epoch 6----> val error: 0.389097\n",
            "epoch 7----> train error: 0.389130\n",
            "epoch 7----> val error: 0.389113\n",
            "epoch 8----> train error: 0.389146\n",
            "epoch 8----> val error: 0.389129\n",
            "epoch 9----> train error: 0.389162\n",
            "epoch 9----> val error: 0.389145\n",
            "epoch 10----> train error: 0.389178\n",
            "epoch 10----> val error: 0.389161\n"
          ]
        },
        {
          "output_type": "execute_result",
          "data": {
            "text/plain": [
              "([0.389033,\n",
              "  0.389049,\n",
              "  0.389065,\n",
              "  0.389081,\n",
              "  0.389098,\n",
              "  0.389114,\n",
              "  0.38913,\n",
              "  0.389146,\n",
              "  0.389162,\n",
              "  0.389178],\n",
              " [0.389016,\n",
              "  0.389032,\n",
              "  0.389048,\n",
              "  0.389064,\n",
              "  0.389081,\n",
              "  0.389097,\n",
              "  0.389113,\n",
              "  0.389129,\n",
              "  0.389145,\n",
              "  0.389161])"
            ]
          },
          "metadata": {},
          "execution_count": 18
        }
      ]
    },
    {
      "cell_type": "markdown",
      "source": [
        "\n",
        "\n",
        "The error is slightly low with Tanh than Sigmoid but the difference is too low to say anything for sure \n",
        "\n",
        "\n",
        "\n"
      ],
      "metadata": {
        "id": "3Hos4y0ZwiXq"
      }
    },
    {
      "cell_type": "code",
      "source": [
        "second.plot_errors()"
      ],
      "metadata": {
        "colab": {
          "base_uri": "https://localhost:8080/",
          "height": 449
        },
        "id": "CANk8FI0Z72d",
        "outputId": "93145870-9cb3-4efe-deb6-8fb800d5c6b3"
      },
      "execution_count": 19,
      "outputs": [
        {
          "output_type": "display_data",
          "data": {
            "text/plain": [
              "<Figure size 640x480 with 1 Axes>"
            ],
            "image/png": "[encoded data removed]"
          },
          "metadata": {}
        }
      ]
    },
    {
      "cell_type": "code",
      "source": [
        "print(second.val_errors)\n"
      ],
      "metadata": {
        "colab": {
          "base_uri": "https://localhost:8080/"
        },
        "id": "_yVOFgeHsuO8",
        "outputId": "9e85b37e-ac19-4351-cad0-f6eee9f4408b"
      },
      "execution_count": 20,
      "outputs": [
        {
          "output_type": "stream",
          "name": "stdout",
          "text": [
            "[0.389016, 0.389032, 0.389048, 0.389064, 0.389081, 0.389097, 0.389113, 0.389129, 0.389145, 0.389161]\n"
          ]
        }
      ]
    },
    {
      "cell_type": "code",
      "source": [
        "def get_one_hot(target, nb_classes):\n",
        "    res = np.eye(nb_classes)[np.array(target).reshape(-1)]\n",
        "    return res.reshape(list(target.shape)+[nb_classes])"
      ],
      "metadata": {
        "id": "03FfgDSXZ934"
      },
      "execution_count": 21,
      "outputs": []
    },
    {
      "cell_type": "code",
      "source": [
        "y_train =  get_one_hot(y_train.astype(int), 10)\n",
        "y_test = get_one_hot(y_test.astype(int), 10)"
      ],
      "metadata": {
        "id": "25KOM9WIaCtV"
      },
      "execution_count": 22,
      "outputs": []
    },
    {
      "cell_type": "code",
      "source": [
        "# Sequential\n",
        "first = Sequential()\n",
        "# the first layer(input layer)\n",
        "first.add_layer(LinearLayer(28*28,64))\n",
        "first.add_layer(Tanh())\n",
        "#output layer\n",
        "first.add_layer(LinearLayer(64,10))\n",
        "first.add_layer(Sigmoid())\n",
        "# Set the loss function\n",
        "first.set_loss(CrossEntropyLoss())\n",
        "# fit\n",
        "first.fit(X_train,y_train,4,0.001, X_val=X_train, y_val=y_train)\n"
      ],
      "metadata": {
        "id": "qu0ywcogaD33"
      },
      "execution_count": null,
      "outputs": []
    },
    {
      "cell_type": "code",
      "source": [
        "y_pred = first.predict(X_test)"
      ],
      "metadata": {
        "id": "k39UbBLOaiAe"
      },
      "execution_count": null,
      "outputs": []
    },
    {
      "cell_type": "code",
      "source": [
        "print(f'Accuracy of model the first : {round(np.mean(y_pred == y_test)*100,2)} %')"
      ],
      "metadata": {
        "id": "inK7iNzOarlz"
      },
      "execution_count": null,
      "outputs": []
    },
    {
      "cell_type": "code",
      "source": [
        "first.plot_errors()"
      ],
      "metadata": {
        "id": "vhqsE2Goa2gf"
      },
      "execution_count": null,
      "outputs": []
    },
    {
      "cell_type": "code",
      "source": [
        "# sequential\n",
        "model_second = Sequential()\n",
        "#first layer\n",
        "model_second.add_layer(LinearLayer(28*28,100,10))\n",
        "model_second.add_layer(Tanh())\n",
        "#second layer\n",
        "model_second.add_layer(LinearLayer(100,10,10))\n",
        "model_second.add_layer(Sigmoid())\n",
        "# Set the loss function\n",
        "model_second.set_loss(CrossEntropyLoss())\n",
        "#fit\n",
        "model_second.fit(X_train,y_train,4,0.0001, X_val=X_train, y_val=y_train)"
      ],
      "metadata": {
        "id": "_MEOgNuybKPl"
      },
      "execution_count": null,
      "outputs": []
    },
    {
      "cell_type": "code",
      "source": [
        "predicted = model_second.predict(X_test)\n",
        "print(f'Accuracy of model the second : {round(np.mean(predicted == y_test)*100,2)} %')"
      ],
      "metadata": {
        "id": "KpqseKkqa-pg"
      },
      "execution_count": null,
      "outputs": []
    },
    {
      "cell_type": "code",
      "source": [
        "model_second.plot_errors()"
      ],
      "metadata": {
        "id": "BaAGDzajbGMu"
      },
      "execution_count": null,
      "outputs": []
    },
    {
      "cell_type": "code",
      "source": [
        "# sequential\n",
        "model_third = Sequential()\n",
        "#first layer\n",
        "model_third.add_layer(LinearLayer(28*28,100,1))\n",
        "model_third.add_layer(Tanh())\n",
        "#third layer\n",
        "model_third.add_layer(LinearLayer(100,10,1))\n",
        "model_third.add_layer(Sigmoid())\n",
        "# Set the loss function\n",
        "model_third.set_loss(CrossEntropyLoss())\n",
        "#fit\n",
        "model_third.fit(X_train,y_train,4,0.001, X_val=X_train, y_val=y_train)"
      ],
      "metadata": {
        "id": "qz7ab2kUbOyF"
      },
      "execution_count": null,
      "outputs": []
    },
    {
      "cell_type": "code",
      "source": [
        "predicted = model_third.predict(X_test)\n",
        "print(f'Accuracy of model the third : {round(np.mean(predicted == y_test)*100,2)} %')"
      ],
      "metadata": {
        "id": "vX4juNwubOtq"
      },
      "execution_count": null,
      "outputs": []
    },
    {
      "cell_type": "code",
      "source": [
        "model_third.plot_errors()"
      ],
      "metadata": {
        "id": "fvq_O_mHbOm4"
      },
      "execution_count": null,
      "outputs": []
    },
    {
      "cell_type": "code",
      "source": [
        "# sequential\n",
        "model_fourth = Sequential()\n",
        "#first layer\n",
        "model_fourth.add_layer(LinearLayer(28*28,100,1))\n",
        "model_fourth.add_layer(Tanh())\n",
        "#fourth layer\n",
        "model_fourth.add_layer(LinearLayer(100,10,1))\n",
        "model_fourth.add_layer(Sigmoid())\n",
        "# Set the loss function\n",
        "model_fourth.set_loss(CrossEntropyLoss())\n",
        "#fit\n",
        "model_fourth.fit(X_train,y_train,4,0.001, X_val=X_train, y_val=y_train)"
      ],
      "metadata": {
        "id": "qmZ1eV59bOfn"
      },
      "execution_count": null,
      "outputs": []
    },
    {
      "cell_type": "code",
      "source": [
        "predicted = model_fourth.predict(X_test)\n",
        "print(f'Accuracy of model the fourth : {round(np.mean(predicted == y_test)*100,2)} %')"
      ],
      "metadata": {
        "id": "CaFrop68boKH"
      },
      "execution_count": null,
      "outputs": []
    },
    {
      "cell_type": "code",
      "source": [
        "model_fourth.plot_errors()"
      ],
      "metadata": {
        "id": "_Y9kZD-AbOWS"
      },
      "execution_count": null,
      "outputs": []
    },
    {
      "cell_type": "code",
      "source": [],
      "metadata": {
        "id": "1v-Np4OwzG0w"
      },
      "execution_count": null,
      "outputs": []
    }
  ]
}